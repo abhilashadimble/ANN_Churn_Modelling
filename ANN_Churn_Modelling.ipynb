{
 "cells": [
  {
   "cell_type": "code",
   "execution_count": 1,
   "id": "eff4f49d",
   "metadata": {},
   "outputs": [],
   "source": [
    "import tensorflow"
   ]
  },
  {
   "cell_type": "code",
   "execution_count": 2,
   "id": "79bc1cbf",
   "metadata": {},
   "outputs": [
    {
     "name": "stdout",
     "output_type": "stream",
     "text": [
      "2.13.0\n"
     ]
    }
   ],
   "source": [
    "print(tensorflow.__version__)"
   ]
  },
  {
   "cell_type": "code",
   "execution_count": 3,
   "id": "ca0627b4",
   "metadata": {},
   "outputs": [],
   "source": [
    "# Part 1 - Data Preprocessing\n",
    "\n",
    "# Importing the libraries\n",
    "import numpy as np\n",
    "import matplotlib.pyplot as plt\n",
    "import pandas as pd"
   ]
  },
  {
   "cell_type": "code",
   "execution_count": 4,
   "id": "98af8ef2",
   "metadata": {},
   "outputs": [],
   "source": [
    "# Importing the dataset\n",
    "dataset = pd.read_csv('Churn_Modelling.csv')\n",
    "X = dataset.iloc[:, 3:13]  #independent features - all rows, 3 to 12 col\n",
    "y = dataset.iloc[:, 13] #dependent feature - all rows, 13 col"
   ]
  },
  {
   "cell_type": "code",
   "execution_count": 5,
   "id": "514150b7",
   "metadata": {},
   "outputs": [
    {
     "data": {
      "text/html": [
       "<div>\n",
       "<style scoped>\n",
       "    .dataframe tbody tr th:only-of-type {\n",
       "        vertical-align: middle;\n",
       "    }\n",
       "\n",
       "    .dataframe tbody tr th {\n",
       "        vertical-align: top;\n",
       "    }\n",
       "\n",
       "    .dataframe thead th {\n",
       "        text-align: right;\n",
       "    }\n",
       "</style>\n",
       "<table border=\"1\" class=\"dataframe\">\n",
       "  <thead>\n",
       "    <tr style=\"text-align: right;\">\n",
       "      <th></th>\n",
       "      <th>RowNumber</th>\n",
       "      <th>CustomerId</th>\n",
       "      <th>Surname</th>\n",
       "      <th>CreditScore</th>\n",
       "      <th>Geography</th>\n",
       "      <th>Gender</th>\n",
       "      <th>Age</th>\n",
       "      <th>Tenure</th>\n",
       "      <th>Balance</th>\n",
       "      <th>NumOfProducts</th>\n",
       "      <th>HasCrCard</th>\n",
       "      <th>IsActiveMember</th>\n",
       "      <th>EstimatedSalary</th>\n",
       "      <th>Exited</th>\n",
       "    </tr>\n",
       "  </thead>\n",
       "  <tbody>\n",
       "    <tr>\n",
       "      <th>0</th>\n",
       "      <td>1</td>\n",
       "      <td>15634602</td>\n",
       "      <td>Hargrave</td>\n",
       "      <td>619</td>\n",
       "      <td>France</td>\n",
       "      <td>Female</td>\n",
       "      <td>42</td>\n",
       "      <td>2</td>\n",
       "      <td>0.00</td>\n",
       "      <td>1</td>\n",
       "      <td>1</td>\n",
       "      <td>1</td>\n",
       "      <td>101348.88</td>\n",
       "      <td>1</td>\n",
       "    </tr>\n",
       "    <tr>\n",
       "      <th>1</th>\n",
       "      <td>2</td>\n",
       "      <td>15647311</td>\n",
       "      <td>Hill</td>\n",
       "      <td>608</td>\n",
       "      <td>Spain</td>\n",
       "      <td>Female</td>\n",
       "      <td>41</td>\n",
       "      <td>1</td>\n",
       "      <td>83807.86</td>\n",
       "      <td>1</td>\n",
       "      <td>0</td>\n",
       "      <td>1</td>\n",
       "      <td>112542.58</td>\n",
       "      <td>0</td>\n",
       "    </tr>\n",
       "    <tr>\n",
       "      <th>2</th>\n",
       "      <td>3</td>\n",
       "      <td>15619304</td>\n",
       "      <td>Onio</td>\n",
       "      <td>502</td>\n",
       "      <td>France</td>\n",
       "      <td>Female</td>\n",
       "      <td>42</td>\n",
       "      <td>8</td>\n",
       "      <td>159660.80</td>\n",
       "      <td>3</td>\n",
       "      <td>1</td>\n",
       "      <td>0</td>\n",
       "      <td>113931.57</td>\n",
       "      <td>1</td>\n",
       "    </tr>\n",
       "    <tr>\n",
       "      <th>3</th>\n",
       "      <td>4</td>\n",
       "      <td>15701354</td>\n",
       "      <td>Boni</td>\n",
       "      <td>699</td>\n",
       "      <td>France</td>\n",
       "      <td>Female</td>\n",
       "      <td>39</td>\n",
       "      <td>1</td>\n",
       "      <td>0.00</td>\n",
       "      <td>2</td>\n",
       "      <td>0</td>\n",
       "      <td>0</td>\n",
       "      <td>93826.63</td>\n",
       "      <td>0</td>\n",
       "    </tr>\n",
       "    <tr>\n",
       "      <th>4</th>\n",
       "      <td>5</td>\n",
       "      <td>15737888</td>\n",
       "      <td>Mitchell</td>\n",
       "      <td>850</td>\n",
       "      <td>Spain</td>\n",
       "      <td>Female</td>\n",
       "      <td>43</td>\n",
       "      <td>2</td>\n",
       "      <td>125510.82</td>\n",
       "      <td>1</td>\n",
       "      <td>1</td>\n",
       "      <td>1</td>\n",
       "      <td>79084.10</td>\n",
       "      <td>0</td>\n",
       "    </tr>\n",
       "  </tbody>\n",
       "</table>\n",
       "</div>"
      ],
      "text/plain": [
       "   RowNumber  CustomerId   Surname  CreditScore Geography  Gender  Age  \\\n",
       "0          1    15634602  Hargrave          619    France  Female   42   \n",
       "1          2    15647311      Hill          608     Spain  Female   41   \n",
       "2          3    15619304      Onio          502    France  Female   42   \n",
       "3          4    15701354      Boni          699    France  Female   39   \n",
       "4          5    15737888  Mitchell          850     Spain  Female   43   \n",
       "\n",
       "   Tenure    Balance  NumOfProducts  HasCrCard  IsActiveMember  \\\n",
       "0       2       0.00              1          1               1   \n",
       "1       1   83807.86              1          0               1   \n",
       "2       8  159660.80              3          1               0   \n",
       "3       1       0.00              2          0               0   \n",
       "4       2  125510.82              1          1               1   \n",
       "\n",
       "   EstimatedSalary  Exited  \n",
       "0        101348.88       1  \n",
       "1        112542.58       0  \n",
       "2        113931.57       1  \n",
       "3         93826.63       0  \n",
       "4         79084.10       0  "
      ]
     },
     "execution_count": 5,
     "metadata": {},
     "output_type": "execute_result"
    }
   ],
   "source": [
    "dataset.head()"
   ]
  },
  {
   "cell_type": "code",
   "execution_count": 6,
   "id": "daf1b1bb",
   "metadata": {},
   "outputs": [
    {
     "data": {
      "text/plain": [
       "RowNumber          0\n",
       "CustomerId         0\n",
       "Surname            0\n",
       "CreditScore        0\n",
       "Geography          0\n",
       "Gender             0\n",
       "Age                0\n",
       "Tenure             0\n",
       "Balance            0\n",
       "NumOfProducts      0\n",
       "HasCrCard          0\n",
       "IsActiveMember     0\n",
       "EstimatedSalary    0\n",
       "Exited             0\n",
       "dtype: int64"
      ]
     },
     "execution_count": 6,
     "metadata": {},
     "output_type": "execute_result"
    }
   ],
   "source": [
    "dataset.isnull().sum()"
   ]
  },
  {
   "cell_type": "code",
   "execution_count": 7,
   "id": "094818a8",
   "metadata": {},
   "outputs": [
    {
     "data": {
      "text/html": [
       "<div>\n",
       "<style scoped>\n",
       "    .dataframe tbody tr th:only-of-type {\n",
       "        vertical-align: middle;\n",
       "    }\n",
       "\n",
       "    .dataframe tbody tr th {\n",
       "        vertical-align: top;\n",
       "    }\n",
       "\n",
       "    .dataframe thead th {\n",
       "        text-align: right;\n",
       "    }\n",
       "</style>\n",
       "<table border=\"1\" class=\"dataframe\">\n",
       "  <thead>\n",
       "    <tr style=\"text-align: right;\">\n",
       "      <th></th>\n",
       "      <th>CreditScore</th>\n",
       "      <th>Geography</th>\n",
       "      <th>Gender</th>\n",
       "      <th>Age</th>\n",
       "      <th>Tenure</th>\n",
       "      <th>Balance</th>\n",
       "      <th>NumOfProducts</th>\n",
       "      <th>HasCrCard</th>\n",
       "      <th>IsActiveMember</th>\n",
       "      <th>EstimatedSalary</th>\n",
       "    </tr>\n",
       "  </thead>\n",
       "  <tbody>\n",
       "    <tr>\n",
       "      <th>0</th>\n",
       "      <td>619</td>\n",
       "      <td>France</td>\n",
       "      <td>Female</td>\n",
       "      <td>42</td>\n",
       "      <td>2</td>\n",
       "      <td>0.00</td>\n",
       "      <td>1</td>\n",
       "      <td>1</td>\n",
       "      <td>1</td>\n",
       "      <td>101348.88</td>\n",
       "    </tr>\n",
       "    <tr>\n",
       "      <th>1</th>\n",
       "      <td>608</td>\n",
       "      <td>Spain</td>\n",
       "      <td>Female</td>\n",
       "      <td>41</td>\n",
       "      <td>1</td>\n",
       "      <td>83807.86</td>\n",
       "      <td>1</td>\n",
       "      <td>0</td>\n",
       "      <td>1</td>\n",
       "      <td>112542.58</td>\n",
       "    </tr>\n",
       "    <tr>\n",
       "      <th>2</th>\n",
       "      <td>502</td>\n",
       "      <td>France</td>\n",
       "      <td>Female</td>\n",
       "      <td>42</td>\n",
       "      <td>8</td>\n",
       "      <td>159660.80</td>\n",
       "      <td>3</td>\n",
       "      <td>1</td>\n",
       "      <td>0</td>\n",
       "      <td>113931.57</td>\n",
       "    </tr>\n",
       "    <tr>\n",
       "      <th>3</th>\n",
       "      <td>699</td>\n",
       "      <td>France</td>\n",
       "      <td>Female</td>\n",
       "      <td>39</td>\n",
       "      <td>1</td>\n",
       "      <td>0.00</td>\n",
       "      <td>2</td>\n",
       "      <td>0</td>\n",
       "      <td>0</td>\n",
       "      <td>93826.63</td>\n",
       "    </tr>\n",
       "    <tr>\n",
       "      <th>4</th>\n",
       "      <td>850</td>\n",
       "      <td>Spain</td>\n",
       "      <td>Female</td>\n",
       "      <td>43</td>\n",
       "      <td>2</td>\n",
       "      <td>125510.82</td>\n",
       "      <td>1</td>\n",
       "      <td>1</td>\n",
       "      <td>1</td>\n",
       "      <td>79084.10</td>\n",
       "    </tr>\n",
       "  </tbody>\n",
       "</table>\n",
       "</div>"
      ],
      "text/plain": [
       "   CreditScore Geography  Gender  Age  Tenure    Balance  NumOfProducts  \\\n",
       "0          619    France  Female   42       2       0.00              1   \n",
       "1          608     Spain  Female   41       1   83807.86              1   \n",
       "2          502    France  Female   42       8  159660.80              3   \n",
       "3          699    France  Female   39       1       0.00              2   \n",
       "4          850     Spain  Female   43       2  125510.82              1   \n",
       "\n",
       "   HasCrCard  IsActiveMember  EstimatedSalary  \n",
       "0          1               1        101348.88  \n",
       "1          0               1        112542.58  \n",
       "2          1               0        113931.57  \n",
       "3          0               0         93826.63  \n",
       "4          1               1         79084.10  "
      ]
     },
     "execution_count": 7,
     "metadata": {},
     "output_type": "execute_result"
    }
   ],
   "source": [
    "X.head()"
   ]
  },
  {
   "cell_type": "code",
   "execution_count": 8,
   "id": "39d4fb86",
   "metadata": {},
   "outputs": [
    {
     "data": {
      "text/plain": [
       "0    1\n",
       "1    0\n",
       "2    1\n",
       "3    0\n",
       "4    0\n",
       "Name: Exited, dtype: int64"
      ]
     },
     "execution_count": 8,
     "metadata": {},
     "output_type": "execute_result"
    }
   ],
   "source": [
    "y.head()"
   ]
  },
  {
   "cell_type": "code",
   "execution_count": 9,
   "id": "912a6f5b",
   "metadata": {},
   "outputs": [],
   "source": [
    "#Create dummy variables\n",
    "geography=pd.get_dummies(X[\"Geography\"],drop_first=True)\n",
    "gender=pd.get_dummies(X['Gender'],drop_first=True)"
   ]
  },
  {
   "cell_type": "code",
   "execution_count": 10,
   "id": "53f2775b",
   "metadata": {},
   "outputs": [
    {
     "data": {
      "text/html": [
       "<div>\n",
       "<style scoped>\n",
       "    .dataframe tbody tr th:only-of-type {\n",
       "        vertical-align: middle;\n",
       "    }\n",
       "\n",
       "    .dataframe tbody tr th {\n",
       "        vertical-align: top;\n",
       "    }\n",
       "\n",
       "    .dataframe thead th {\n",
       "        text-align: right;\n",
       "    }\n",
       "</style>\n",
       "<table border=\"1\" class=\"dataframe\">\n",
       "  <thead>\n",
       "    <tr style=\"text-align: right;\">\n",
       "      <th></th>\n",
       "      <th>Germany</th>\n",
       "      <th>Spain</th>\n",
       "    </tr>\n",
       "  </thead>\n",
       "  <tbody>\n",
       "    <tr>\n",
       "      <th>0</th>\n",
       "      <td>0</td>\n",
       "      <td>0</td>\n",
       "    </tr>\n",
       "    <tr>\n",
       "      <th>1</th>\n",
       "      <td>0</td>\n",
       "      <td>1</td>\n",
       "    </tr>\n",
       "    <tr>\n",
       "      <th>2</th>\n",
       "      <td>0</td>\n",
       "      <td>0</td>\n",
       "    </tr>\n",
       "    <tr>\n",
       "      <th>3</th>\n",
       "      <td>0</td>\n",
       "      <td>0</td>\n",
       "    </tr>\n",
       "    <tr>\n",
       "      <th>4</th>\n",
       "      <td>0</td>\n",
       "      <td>1</td>\n",
       "    </tr>\n",
       "    <tr>\n",
       "      <th>...</th>\n",
       "      <td>...</td>\n",
       "      <td>...</td>\n",
       "    </tr>\n",
       "    <tr>\n",
       "      <th>9995</th>\n",
       "      <td>0</td>\n",
       "      <td>0</td>\n",
       "    </tr>\n",
       "    <tr>\n",
       "      <th>9996</th>\n",
       "      <td>0</td>\n",
       "      <td>0</td>\n",
       "    </tr>\n",
       "    <tr>\n",
       "      <th>9997</th>\n",
       "      <td>0</td>\n",
       "      <td>0</td>\n",
       "    </tr>\n",
       "    <tr>\n",
       "      <th>9998</th>\n",
       "      <td>1</td>\n",
       "      <td>0</td>\n",
       "    </tr>\n",
       "    <tr>\n",
       "      <th>9999</th>\n",
       "      <td>0</td>\n",
       "      <td>0</td>\n",
       "    </tr>\n",
       "  </tbody>\n",
       "</table>\n",
       "<p>10000 rows × 2 columns</p>\n",
       "</div>"
      ],
      "text/plain": [
       "      Germany  Spain\n",
       "0           0      0\n",
       "1           0      1\n",
       "2           0      0\n",
       "3           0      0\n",
       "4           0      1\n",
       "...       ...    ...\n",
       "9995        0      0\n",
       "9996        0      0\n",
       "9997        0      0\n",
       "9998        1      0\n",
       "9999        0      0\n",
       "\n",
       "[10000 rows x 2 columns]"
      ]
     },
     "execution_count": 10,
     "metadata": {},
     "output_type": "execute_result"
    }
   ],
   "source": [
    "geography"
   ]
  },
  {
   "cell_type": "code",
   "execution_count": 11,
   "id": "ac03b0a5",
   "metadata": {},
   "outputs": [],
   "source": [
    "## Concatenate the Data Frames\n",
    "\n",
    "X=pd.concat([X,geography,gender],axis=1)\n",
    "\n",
    "## Drop Unnecessary columns\n",
    "X=X.drop(['Geography','Gender'],axis=1)"
   ]
  },
  {
   "cell_type": "code",
   "execution_count": 12,
   "id": "85d3d586",
   "metadata": {},
   "outputs": [
    {
     "data": {
      "text/plain": [
       "(10000, 11)"
      ]
     },
     "execution_count": 12,
     "metadata": {},
     "output_type": "execute_result"
    }
   ],
   "source": [
    "X.shape"
   ]
  },
  {
   "cell_type": "code",
   "execution_count": 13,
   "id": "e3a351c8",
   "metadata": {},
   "outputs": [
    {
     "data": {
      "text/html": [
       "<div>\n",
       "<style scoped>\n",
       "    .dataframe tbody tr th:only-of-type {\n",
       "        vertical-align: middle;\n",
       "    }\n",
       "\n",
       "    .dataframe tbody tr th {\n",
       "        vertical-align: top;\n",
       "    }\n",
       "\n",
       "    .dataframe thead th {\n",
       "        text-align: right;\n",
       "    }\n",
       "</style>\n",
       "<table border=\"1\" class=\"dataframe\">\n",
       "  <thead>\n",
       "    <tr style=\"text-align: right;\">\n",
       "      <th></th>\n",
       "      <th>CreditScore</th>\n",
       "      <th>Age</th>\n",
       "      <th>Tenure</th>\n",
       "      <th>Balance</th>\n",
       "      <th>NumOfProducts</th>\n",
       "      <th>HasCrCard</th>\n",
       "      <th>IsActiveMember</th>\n",
       "      <th>EstimatedSalary</th>\n",
       "      <th>Germany</th>\n",
       "      <th>Spain</th>\n",
       "      <th>Male</th>\n",
       "    </tr>\n",
       "  </thead>\n",
       "  <tbody>\n",
       "    <tr>\n",
       "      <th>0</th>\n",
       "      <td>619</td>\n",
       "      <td>42</td>\n",
       "      <td>2</td>\n",
       "      <td>0.00</td>\n",
       "      <td>1</td>\n",
       "      <td>1</td>\n",
       "      <td>1</td>\n",
       "      <td>101348.88</td>\n",
       "      <td>0</td>\n",
       "      <td>0</td>\n",
       "      <td>0</td>\n",
       "    </tr>\n",
       "    <tr>\n",
       "      <th>1</th>\n",
       "      <td>608</td>\n",
       "      <td>41</td>\n",
       "      <td>1</td>\n",
       "      <td>83807.86</td>\n",
       "      <td>1</td>\n",
       "      <td>0</td>\n",
       "      <td>1</td>\n",
       "      <td>112542.58</td>\n",
       "      <td>0</td>\n",
       "      <td>1</td>\n",
       "      <td>0</td>\n",
       "    </tr>\n",
       "    <tr>\n",
       "      <th>2</th>\n",
       "      <td>502</td>\n",
       "      <td>42</td>\n",
       "      <td>8</td>\n",
       "      <td>159660.80</td>\n",
       "      <td>3</td>\n",
       "      <td>1</td>\n",
       "      <td>0</td>\n",
       "      <td>113931.57</td>\n",
       "      <td>0</td>\n",
       "      <td>0</td>\n",
       "      <td>0</td>\n",
       "    </tr>\n",
       "    <tr>\n",
       "      <th>3</th>\n",
       "      <td>699</td>\n",
       "      <td>39</td>\n",
       "      <td>1</td>\n",
       "      <td>0.00</td>\n",
       "      <td>2</td>\n",
       "      <td>0</td>\n",
       "      <td>0</td>\n",
       "      <td>93826.63</td>\n",
       "      <td>0</td>\n",
       "      <td>0</td>\n",
       "      <td>0</td>\n",
       "    </tr>\n",
       "    <tr>\n",
       "      <th>4</th>\n",
       "      <td>850</td>\n",
       "      <td>43</td>\n",
       "      <td>2</td>\n",
       "      <td>125510.82</td>\n",
       "      <td>1</td>\n",
       "      <td>1</td>\n",
       "      <td>1</td>\n",
       "      <td>79084.10</td>\n",
       "      <td>0</td>\n",
       "      <td>1</td>\n",
       "      <td>0</td>\n",
       "    </tr>\n",
       "  </tbody>\n",
       "</table>\n",
       "</div>"
      ],
      "text/plain": [
       "   CreditScore  Age  Tenure    Balance  NumOfProducts  HasCrCard  \\\n",
       "0          619   42       2       0.00              1          1   \n",
       "1          608   41       1   83807.86              1          0   \n",
       "2          502   42       8  159660.80              3          1   \n",
       "3          699   39       1       0.00              2          0   \n",
       "4          850   43       2  125510.82              1          1   \n",
       "\n",
       "   IsActiveMember  EstimatedSalary  Germany  Spain  Male  \n",
       "0               1        101348.88        0      0     0  \n",
       "1               1        112542.58        0      1     0  \n",
       "2               0        113931.57        0      0     0  \n",
       "3               0         93826.63        0      0     0  \n",
       "4               1         79084.10        0      1     0  "
      ]
     },
     "execution_count": 13,
     "metadata": {},
     "output_type": "execute_result"
    }
   ],
   "source": [
    "X.head()"
   ]
  },
  {
   "cell_type": "code",
   "execution_count": 14,
   "id": "426ab6ca",
   "metadata": {},
   "outputs": [],
   "source": [
    "# Splitting the dataset into the Training set and Test set\n",
    "from sklearn.model_selection import train_test_split\n",
    "X_train, X_test, y_train, y_test = train_test_split(X, y, test_size = 0.2, random_state = 0)"
   ]
  },
  {
   "cell_type": "code",
   "execution_count": 15,
   "id": "18cbeba3",
   "metadata": {},
   "outputs": [],
   "source": [
    "# Feature Scaling\n",
    "from sklearn.preprocessing import StandardScaler\n",
    "sc = StandardScaler()\n",
    "X_train = sc.fit_transform(X_train)\n",
    "X_test = sc.transform(X_test)"
   ]
  },
  {
   "cell_type": "code",
   "execution_count": 16,
   "id": "448839cd",
   "metadata": {},
   "outputs": [
    {
     "data": {
      "text/plain": [
       "array([[ 0.16958176, -0.46460796,  0.00666099, ..., -0.5698444 ,\n",
       "         1.74309049, -1.09168714],\n",
       "       [-2.30455945,  0.30102557, -1.37744033, ...,  1.75486502,\n",
       "        -0.57369368,  0.91601335],\n",
       "       [-1.19119591, -0.94312892, -1.031415  , ..., -0.5698444 ,\n",
       "        -0.57369368, -1.09168714],\n",
       "       ...,\n",
       "       [ 0.9015152 , -0.36890377,  0.00666099, ..., -0.5698444 ,\n",
       "        -0.57369368,  0.91601335],\n",
       "       [-0.62420521, -0.08179119,  1.39076231, ..., -0.5698444 ,\n",
       "         1.74309049, -1.09168714],\n",
       "       [-0.28401079,  0.87525072, -1.37744033, ...,  1.75486502,\n",
       "        -0.57369368, -1.09168714]])"
      ]
     },
     "execution_count": 16,
     "metadata": {},
     "output_type": "execute_result"
    }
   ],
   "source": [
    "X_train"
   ]
  },
  {
   "cell_type": "code",
   "execution_count": 17,
   "id": "e87aa1d9",
   "metadata": {},
   "outputs": [
    {
     "name": "stdout",
     "output_type": "stream",
     "text": [
      "2.13.0\n"
     ]
    }
   ],
   "source": [
    "import tensorflow\n",
    "print(tensorflow.__version__)"
   ]
  },
  {
   "cell_type": "code",
   "execution_count": 18,
   "id": "d4a3d06e",
   "metadata": {},
   "outputs": [],
   "source": [
    "# Part 2 - Now let's make the ANN!\n",
    "\n",
    "# Importing the Keras libraries and packages\n",
    "import tensorflow.keras\n",
    "from tensorflow.keras.models import Sequential\n",
    "from tensorflow.keras.layers import Dense\n",
    "from tensorflow.keras.layers import Dropout"
   ]
  },
  {
   "cell_type": "code",
   "execution_count": 19,
   "id": "6763261d",
   "metadata": {},
   "outputs": [],
   "source": [
    "# Initialising the ANN\n",
    "classifier = Sequential()\n",
    "\n",
    "# Adding the input layer and the first hidden layer\n",
    "classifier.add(Dense(units = 10,kernel_initializer='he_uniform',activation='relu',input_dim = 11))\n",
    "\n",
    "# Adding the second hidden layer\n",
    "classifier.add(Dense(units = 10, kernel_initializer = 'he_uniform',activation='relu'))\n",
    "# Adding the output layer\n",
    "classifier.add(Dense(units = 1, kernel_initializer = 'glorot_uniform', activation = 'sigmoid'))\n",
    "\n",
    "# Compiling the ANN\n",
    "classifier.compile(optimizer = 'adam', loss = 'binary_crossentropy', metrics = ['accuracy'])"
   ]
  },
  {
   "cell_type": "code",
   "execution_count": 20,
   "id": "89c9197a",
   "metadata": {},
   "outputs": [
    {
     "name": "stdout",
     "output_type": "stream",
     "text": [
      "Model: \"sequential\"\n",
      "_________________________________________________________________\n",
      " Layer (type)                Output Shape              Param #   \n",
      "=================================================================\n",
      " dense (Dense)               (None, 10)                120       \n",
      "                                                                 \n",
      " dense_1 (Dense)             (None, 10)                110       \n",
      "                                                                 \n",
      " dense_2 (Dense)             (None, 1)                 11        \n",
      "                                                                 \n",
      "=================================================================\n",
      "Total params: 241 (964.00 Byte)\n",
      "Trainable params: 241 (964.00 Byte)\n",
      "Non-trainable params: 0 (0.00 Byte)\n",
      "_________________________________________________________________\n"
     ]
    }
   ],
   "source": [
    "classifier.summary()"
   ]
  },
  {
   "cell_type": "code",
   "execution_count": 21,
   "id": "2f9f40c7",
   "metadata": {},
   "outputs": [
    {
     "data": {
      "text/plain": [
       "(8000, 11)"
      ]
     },
     "execution_count": 21,
     "metadata": {},
     "output_type": "execute_result"
    }
   ],
   "source": [
    "X_train.shape"
   ]
  },
  {
   "cell_type": "code",
   "execution_count": 26,
   "id": "dad96653",
   "metadata": {},
   "outputs": [
    {
     "name": "stdout",
     "output_type": "stream",
     "text": [
      "Epoch 1/100\n",
      "54/54 [==============================] - 15s 33ms/step - loss: 0.6167 - accuracy: 0.7024 - val_loss: 0.5693 - val_accuracy: 0.7615\n",
      "Epoch 2/100\n",
      "54/54 [==============================] - 1s 13ms/step - loss: 0.5423 - accuracy: 0.7813 - val_loss: 0.5260 - val_accuracy: 0.7868\n",
      "Epoch 3/100\n",
      "54/54 [==============================] - 1s 11ms/step - loss: 0.5098 - accuracy: 0.7919 - val_loss: 0.5030 - val_accuracy: 0.7933\n",
      "Epoch 4/100\n",
      "54/54 [==============================] - 1s 13ms/step - loss: 0.4883 - accuracy: 0.7947 - val_loss: 0.4868 - val_accuracy: 0.7948\n",
      "Epoch 5/100\n",
      "54/54 [==============================] - 1s 10ms/step - loss: 0.4721 - accuracy: 0.7953 - val_loss: 0.4741 - val_accuracy: 0.7963\n",
      "Epoch 6/100\n",
      "54/54 [==============================] - 1s 10ms/step - loss: 0.4591 - accuracy: 0.7964 - val_loss: 0.4631 - val_accuracy: 0.7974\n",
      "Epoch 7/100\n",
      "54/54 [==============================] - 0s 9ms/step - loss: 0.4484 - accuracy: 0.7981 - val_loss: 0.4541 - val_accuracy: 0.8008\n",
      "Epoch 8/100\n",
      "54/54 [==============================] - 0s 8ms/step - loss: 0.4396 - accuracy: 0.8011 - val_loss: 0.4462 - val_accuracy: 0.8031\n",
      "Epoch 9/100\n",
      "54/54 [==============================] - 1s 10ms/step - loss: 0.4322 - accuracy: 0.8044 - val_loss: 0.4400 - val_accuracy: 0.8061\n",
      "Epoch 10/100\n",
      "54/54 [==============================] - 0s 9ms/step - loss: 0.4256 - accuracy: 0.8087 - val_loss: 0.4346 - val_accuracy: 0.8076\n",
      "Epoch 11/100\n",
      "54/54 [==============================] - 1s 9ms/step - loss: 0.4204 - accuracy: 0.8117 - val_loss: 0.4297 - val_accuracy: 0.8107\n",
      "Epoch 12/100\n",
      "54/54 [==============================] - 1s 10ms/step - loss: 0.4154 - accuracy: 0.8177 - val_loss: 0.4261 - val_accuracy: 0.8114\n",
      "Epoch 13/100\n",
      "54/54 [==============================] - 0s 8ms/step - loss: 0.4114 - accuracy: 0.8190 - val_loss: 0.4230 - val_accuracy: 0.8114\n",
      "Epoch 14/100\n",
      "54/54 [==============================] - 0s 7ms/step - loss: 0.4075 - accuracy: 0.8237 - val_loss: 0.4198 - val_accuracy: 0.8133\n",
      "Epoch 15/100\n",
      "54/54 [==============================] - 0s 8ms/step - loss: 0.4040 - accuracy: 0.8244 - val_loss: 0.4174 - val_accuracy: 0.8152\n",
      "Epoch 16/100\n",
      "54/54 [==============================] - 0s 8ms/step - loss: 0.4011 - accuracy: 0.8246 - val_loss: 0.4148 - val_accuracy: 0.8175\n",
      "Epoch 17/100\n",
      "54/54 [==============================] - 0s 8ms/step - loss: 0.3985 - accuracy: 0.8276 - val_loss: 0.4128 - val_accuracy: 0.8175\n",
      "Epoch 18/100\n",
      "54/54 [==============================] - 0s 7ms/step - loss: 0.3959 - accuracy: 0.8280 - val_loss: 0.4102 - val_accuracy: 0.8190\n",
      "Epoch 19/100\n",
      "54/54 [==============================] - 0s 8ms/step - loss: 0.3937 - accuracy: 0.8302 - val_loss: 0.4086 - val_accuracy: 0.8209\n",
      "Epoch 20/100\n",
      "54/54 [==============================] - 0s 8ms/step - loss: 0.3914 - accuracy: 0.8302 - val_loss: 0.4066 - val_accuracy: 0.8217\n",
      "Epoch 21/100\n",
      "54/54 [==============================] - 0s 8ms/step - loss: 0.3895 - accuracy: 0.8326 - val_loss: 0.4045 - val_accuracy: 0.8213\n",
      "Epoch 22/100\n",
      "54/54 [==============================] - 0s 7ms/step - loss: 0.3873 - accuracy: 0.8339 - val_loss: 0.4028 - val_accuracy: 0.8224\n",
      "Epoch 23/100\n",
      "54/54 [==============================] - 0s 8ms/step - loss: 0.3856 - accuracy: 0.8334 - val_loss: 0.4010 - val_accuracy: 0.8251\n",
      "Epoch 24/100\n",
      "54/54 [==============================] - 0s 8ms/step - loss: 0.3832 - accuracy: 0.8332 - val_loss: 0.3992 - val_accuracy: 0.8266\n",
      "Epoch 25/100\n",
      "54/54 [==============================] - 0s 8ms/step - loss: 0.3813 - accuracy: 0.8337 - val_loss: 0.3975 - val_accuracy: 0.8254\n",
      "Epoch 26/100\n",
      "54/54 [==============================] - 0s 8ms/step - loss: 0.3792 - accuracy: 0.8341 - val_loss: 0.3957 - val_accuracy: 0.8239\n",
      "Epoch 27/100\n",
      "54/54 [==============================] - 0s 9ms/step - loss: 0.3772 - accuracy: 0.8341 - val_loss: 0.3942 - val_accuracy: 0.8254\n",
      "Epoch 28/100\n",
      "54/54 [==============================] - 0s 8ms/step - loss: 0.3753 - accuracy: 0.8324 - val_loss: 0.3925 - val_accuracy: 0.8270\n",
      "Epoch 29/100\n",
      "54/54 [==============================] - 0s 9ms/step - loss: 0.3729 - accuracy: 0.8332 - val_loss: 0.3911 - val_accuracy: 0.8289\n",
      "Epoch 30/100\n",
      "54/54 [==============================] - 1s 11ms/step - loss: 0.3711 - accuracy: 0.8349 - val_loss: 0.3899 - val_accuracy: 0.8273\n",
      "Epoch 31/100\n",
      "54/54 [==============================] - 0s 9ms/step - loss: 0.3695 - accuracy: 0.8358 - val_loss: 0.3887 - val_accuracy: 0.8270\n",
      "Epoch 32/100\n",
      "54/54 [==============================] - 0s 9ms/step - loss: 0.3678 - accuracy: 0.8356 - val_loss: 0.3874 - val_accuracy: 0.8273\n",
      "Epoch 33/100\n",
      "54/54 [==============================] - 0s 8ms/step - loss: 0.3665 - accuracy: 0.8339 - val_loss: 0.3868 - val_accuracy: 0.8277\n",
      "Epoch 34/100\n",
      "54/54 [==============================] - 0s 8ms/step - loss: 0.3648 - accuracy: 0.8367 - val_loss: 0.3854 - val_accuracy: 0.8296\n",
      "Epoch 35/100\n",
      "54/54 [==============================] - 0s 9ms/step - loss: 0.3634 - accuracy: 0.8365 - val_loss: 0.3845 - val_accuracy: 0.8296\n",
      "Epoch 36/100\n",
      "54/54 [==============================] - 0s 9ms/step - loss: 0.3621 - accuracy: 0.8373 - val_loss: 0.3834 - val_accuracy: 0.8311\n",
      "Epoch 37/100\n",
      "54/54 [==============================] - 0s 9ms/step - loss: 0.3605 - accuracy: 0.8367 - val_loss: 0.3823 - val_accuracy: 0.8296\n",
      "Epoch 38/100\n",
      "54/54 [==============================] - 0s 8ms/step - loss: 0.3593 - accuracy: 0.8380 - val_loss: 0.3817 - val_accuracy: 0.8300\n",
      "Epoch 39/100\n",
      "54/54 [==============================] - 0s 8ms/step - loss: 0.3578 - accuracy: 0.8364 - val_loss: 0.3807 - val_accuracy: 0.8296\n",
      "Epoch 40/100\n",
      "54/54 [==============================] - 0s 9ms/step - loss: 0.3567 - accuracy: 0.8380 - val_loss: 0.3796 - val_accuracy: 0.8311\n",
      "Epoch 41/100\n",
      "54/54 [==============================] - 1s 10ms/step - loss: 0.3557 - accuracy: 0.8434 - val_loss: 0.3792 - val_accuracy: 0.8425\n",
      "Epoch 42/100\n",
      "54/54 [==============================] - 1s 10ms/step - loss: 0.3547 - accuracy: 0.8528 - val_loss: 0.3784 - val_accuracy: 0.8444\n",
      "Epoch 43/100\n",
      "54/54 [==============================] - 1s 9ms/step - loss: 0.3535 - accuracy: 0.8535 - val_loss: 0.3777 - val_accuracy: 0.8451\n",
      "Epoch 44/100\n",
      "54/54 [==============================] - 1s 10ms/step - loss: 0.3522 - accuracy: 0.8546 - val_loss: 0.3769 - val_accuracy: 0.8482\n",
      "Epoch 45/100\n",
      "54/54 [==============================] - 0s 9ms/step - loss: 0.3516 - accuracy: 0.8559 - val_loss: 0.3766 - val_accuracy: 0.8474\n",
      "Epoch 46/100\n",
      "54/54 [==============================] - 0s 8ms/step - loss: 0.3504 - accuracy: 0.8563 - val_loss: 0.3759 - val_accuracy: 0.8485\n",
      "Epoch 47/100\n",
      "54/54 [==============================] - 0s 8ms/step - loss: 0.3495 - accuracy: 0.8572 - val_loss: 0.3755 - val_accuracy: 0.8482\n",
      "Epoch 48/100\n",
      "54/54 [==============================] - 0s 9ms/step - loss: 0.3486 - accuracy: 0.8587 - val_loss: 0.3743 - val_accuracy: 0.8497\n",
      "Epoch 49/100\n",
      "54/54 [==============================] - 1s 10ms/step - loss: 0.3467 - accuracy: 0.8614 - val_loss: 0.3724 - val_accuracy: 0.8523\n",
      "Epoch 50/100\n",
      "54/54 [==============================] - 1s 10ms/step - loss: 0.3431 - accuracy: 0.8614 - val_loss: 0.3686 - val_accuracy: 0.8538\n",
      "Epoch 51/100\n",
      "54/54 [==============================] - 1s 10ms/step - loss: 0.3385 - accuracy: 0.8642 - val_loss: 0.3664 - val_accuracy: 0.8542\n",
      "Epoch 52/100\n",
      "54/54 [==============================] - 1s 10ms/step - loss: 0.3367 - accuracy: 0.8627 - val_loss: 0.3657 - val_accuracy: 0.8527\n",
      "Epoch 53/100\n",
      "54/54 [==============================] - 1s 10ms/step - loss: 0.3353 - accuracy: 0.8634 - val_loss: 0.3649 - val_accuracy: 0.8527\n",
      "Epoch 54/100\n",
      "54/54 [==============================] - 0s 9ms/step - loss: 0.3343 - accuracy: 0.8630 - val_loss: 0.3649 - val_accuracy: 0.8527\n",
      "Epoch 55/100\n",
      "54/54 [==============================] - 0s 9ms/step - loss: 0.3336 - accuracy: 0.8645 - val_loss: 0.3645 - val_accuracy: 0.8546\n",
      "Epoch 56/100\n",
      "54/54 [==============================] - 0s 9ms/step - loss: 0.3330 - accuracy: 0.8636 - val_loss: 0.3641 - val_accuracy: 0.8546\n",
      "Epoch 57/100\n",
      "54/54 [==============================] - 0s 9ms/step - loss: 0.3321 - accuracy: 0.8655 - val_loss: 0.3635 - val_accuracy: 0.8538\n",
      "Epoch 58/100\n",
      "54/54 [==============================] - 0s 8ms/step - loss: 0.3317 - accuracy: 0.8643 - val_loss: 0.3639 - val_accuracy: 0.8546\n",
      "Epoch 59/100\n",
      "54/54 [==============================] - 0s 8ms/step - loss: 0.3317 - accuracy: 0.8660 - val_loss: 0.3637 - val_accuracy: 0.8550\n",
      "Epoch 60/100\n",
      "54/54 [==============================] - 0s 8ms/step - loss: 0.3313 - accuracy: 0.8636 - val_loss: 0.3638 - val_accuracy: 0.8550\n",
      "Epoch 61/100\n",
      "54/54 [==============================] - 0s 8ms/step - loss: 0.3309 - accuracy: 0.8649 - val_loss: 0.3635 - val_accuracy: 0.8531\n",
      "Epoch 62/100\n",
      "54/54 [==============================] - 0s 8ms/step - loss: 0.3304 - accuracy: 0.8649 - val_loss: 0.3635 - val_accuracy: 0.8557\n",
      "Epoch 63/100\n",
      "54/54 [==============================] - 0s 8ms/step - loss: 0.3306 - accuracy: 0.8634 - val_loss: 0.3636 - val_accuracy: 0.8542\n",
      "Epoch 64/100\n",
      "54/54 [==============================] - 0s 8ms/step - loss: 0.3300 - accuracy: 0.8655 - val_loss: 0.3633 - val_accuracy: 0.8538\n",
      "Epoch 65/100\n",
      "54/54 [==============================] - 0s 8ms/step - loss: 0.3299 - accuracy: 0.8636 - val_loss: 0.3632 - val_accuracy: 0.8554\n",
      "Epoch 66/100\n",
      "54/54 [==============================] - 0s 8ms/step - loss: 0.3294 - accuracy: 0.8653 - val_loss: 0.3634 - val_accuracy: 0.8538\n",
      "Epoch 67/100\n",
      "54/54 [==============================] - 0s 8ms/step - loss: 0.3297 - accuracy: 0.8642 - val_loss: 0.3630 - val_accuracy: 0.8527\n",
      "Epoch 68/100\n",
      "54/54 [==============================] - 0s 8ms/step - loss: 0.3293 - accuracy: 0.8647 - val_loss: 0.3634 - val_accuracy: 0.8531\n",
      "Epoch 69/100\n",
      "54/54 [==============================] - 0s 7ms/step - loss: 0.3289 - accuracy: 0.8653 - val_loss: 0.3631 - val_accuracy: 0.8546\n",
      "Epoch 70/100\n",
      "54/54 [==============================] - 0s 8ms/step - loss: 0.3288 - accuracy: 0.8645 - val_loss: 0.3635 - val_accuracy: 0.8535\n",
      "Epoch 71/100\n",
      "54/54 [==============================] - 0s 7ms/step - loss: 0.3287 - accuracy: 0.8634 - val_loss: 0.3635 - val_accuracy: 0.8531\n",
      "Epoch 72/100\n",
      "54/54 [==============================] - 0s 7ms/step - loss: 0.3285 - accuracy: 0.8647 - val_loss: 0.3632 - val_accuracy: 0.8523\n",
      "Epoch 73/100\n",
      "54/54 [==============================] - 0s 8ms/step - loss: 0.3283 - accuracy: 0.8666 - val_loss: 0.3628 - val_accuracy: 0.8523\n",
      "Epoch 74/100\n",
      "54/54 [==============================] - 0s 7ms/step - loss: 0.3280 - accuracy: 0.8653 - val_loss: 0.3630 - val_accuracy: 0.8523\n",
      "Epoch 75/100\n",
      "54/54 [==============================] - 0s 7ms/step - loss: 0.3276 - accuracy: 0.8653 - val_loss: 0.3626 - val_accuracy: 0.8535\n",
      "Epoch 76/100\n",
      "54/54 [==============================] - 1s 24ms/step - loss: 0.3278 - accuracy: 0.8666 - val_loss: 0.3623 - val_accuracy: 0.8527\n",
      "Epoch 77/100\n",
      "54/54 [==============================] - 1s 18ms/step - loss: 0.3276 - accuracy: 0.8653 - val_loss: 0.3628 - val_accuracy: 0.8512\n",
      "Epoch 78/100\n",
      "54/54 [==============================] - 1s 15ms/step - loss: 0.3268 - accuracy: 0.8666 - val_loss: 0.3622 - val_accuracy: 0.8527\n",
      "Epoch 79/100\n",
      "54/54 [==============================] - 1s 12ms/step - loss: 0.3265 - accuracy: 0.8651 - val_loss: 0.3627 - val_accuracy: 0.8501\n",
      "Epoch 80/100\n",
      "54/54 [==============================] - 1s 10ms/step - loss: 0.3270 - accuracy: 0.8658 - val_loss: 0.3623 - val_accuracy: 0.8512\n",
      "Epoch 81/100\n",
      "54/54 [==============================] - 1s 10ms/step - loss: 0.3264 - accuracy: 0.8649 - val_loss: 0.3617 - val_accuracy: 0.8519\n",
      "Epoch 82/100\n",
      "54/54 [==============================] - 1s 11ms/step - loss: 0.3265 - accuracy: 0.8649 - val_loss: 0.3620 - val_accuracy: 0.8512\n",
      "Epoch 83/100\n",
      "54/54 [==============================] - 1s 10ms/step - loss: 0.3261 - accuracy: 0.8643 - val_loss: 0.3616 - val_accuracy: 0.8516\n",
      "Epoch 84/100\n",
      "54/54 [==============================] - 1s 11ms/step - loss: 0.3260 - accuracy: 0.8651 - val_loss: 0.3623 - val_accuracy: 0.8523\n",
      "Epoch 85/100\n",
      "54/54 [==============================] - 1s 10ms/step - loss: 0.3259 - accuracy: 0.8656 - val_loss: 0.3614 - val_accuracy: 0.8516\n",
      "Epoch 86/100\n",
      "54/54 [==============================] - 1s 15ms/step - loss: 0.3255 - accuracy: 0.8638 - val_loss: 0.3617 - val_accuracy: 0.8523\n",
      "Epoch 87/100\n",
      "54/54 [==============================] - 1s 12ms/step - loss: 0.3259 - accuracy: 0.8649 - val_loss: 0.3616 - val_accuracy: 0.8531\n",
      "Epoch 88/100\n",
      "54/54 [==============================] - 1s 11ms/step - loss: 0.3255 - accuracy: 0.8655 - val_loss: 0.3611 - val_accuracy: 0.8516\n",
      "Epoch 89/100\n",
      "54/54 [==============================] - 1s 16ms/step - loss: 0.3251 - accuracy: 0.8655 - val_loss: 0.3614 - val_accuracy: 0.8508\n",
      "Epoch 90/100\n",
      "54/54 [==============================] - 1s 11ms/step - loss: 0.3249 - accuracy: 0.8658 - val_loss: 0.3615 - val_accuracy: 0.8519\n",
      "Epoch 91/100\n",
      "54/54 [==============================] - 1s 11ms/step - loss: 0.3247 - accuracy: 0.8640 - val_loss: 0.3613 - val_accuracy: 0.8519\n",
      "Epoch 92/100\n",
      "54/54 [==============================] - 1s 14ms/step - loss: 0.3249 - accuracy: 0.8658 - val_loss: 0.3614 - val_accuracy: 0.8531\n",
      "Epoch 93/100\n",
      "54/54 [==============================] - 0s 8ms/step - loss: 0.3245 - accuracy: 0.8649 - val_loss: 0.3608 - val_accuracy: 0.8501\n",
      "Epoch 94/100\n",
      "54/54 [==============================] - 1s 13ms/step - loss: 0.3244 - accuracy: 0.8642 - val_loss: 0.3605 - val_accuracy: 0.8519\n",
      "Epoch 95/100\n",
      "54/54 [==============================] - 1s 11ms/step - loss: 0.3246 - accuracy: 0.8662 - val_loss: 0.3605 - val_accuracy: 0.8512\n",
      "Epoch 96/100\n",
      "54/54 [==============================] - 1s 13ms/step - loss: 0.3242 - accuracy: 0.8656 - val_loss: 0.3601 - val_accuracy: 0.8508\n",
      "Epoch 97/100\n",
      "54/54 [==============================] - 1s 12ms/step - loss: 0.3240 - accuracy: 0.8642 - val_loss: 0.3606 - val_accuracy: 0.8512\n",
      "Epoch 98/100\n",
      "54/54 [==============================] - 1s 14ms/step - loss: 0.3236 - accuracy: 0.8664 - val_loss: 0.3600 - val_accuracy: 0.8501\n",
      "Epoch 99/100\n",
      "54/54 [==============================] - 1s 9ms/step - loss: 0.3237 - accuracy: 0.8656 - val_loss: 0.3599 - val_accuracy: 0.8501\n",
      "Epoch 100/100\n",
      "54/54 [==============================] - 1s 10ms/step - loss: 0.3237 - accuracy: 0.8651 - val_loss: 0.3605 - val_accuracy: 0.8516\n"
     ]
    }
   ],
   "source": [
    "# Fitting the ANN to the Training set\n",
    "model_history=classifier.fit(X_train, y_train,validation_split=0.33, batch_size = 100,epochs = 100)"
   ]
  },
  {
   "cell_type": "code",
   "execution_count": 27,
   "id": "994c6201",
   "metadata": {},
   "outputs": [
    {
     "data": {
      "text/plain": [
       "dict_keys(['loss', 'accuracy', 'val_loss', 'val_accuracy'])"
      ]
     },
     "execution_count": 27,
     "metadata": {},
     "output_type": "execute_result"
    }
   ],
   "source": [
    "model_history.history.keys()"
   ]
  },
  {
   "cell_type": "code",
   "execution_count": 28,
   "id": "515bd9d6",
   "metadata": {},
   "outputs": [
    {
     "name": "stdout",
     "output_type": "stream",
     "text": [
      "dict_keys(['loss', 'accuracy', 'val_loss', 'val_accuracy'])\n"
     ]
    },
    {
     "data": {
      "image/png": "[encoded data removed]",
      "text/plain": [
       "<Figure size 432x288 with 1 Axes>"
      ]
     },
     "metadata": {
      "needs_background": "light"
     },
     "output_type": "display_data"
    }
   ],
   "source": [
    "# list all data in history\n",
    "\n",
    "print(model_history.history.keys())\n",
    "# summarize history for accuracy\n",
    "plt.plot(model_history.history['accuracy'])\n",
    "plt.plot(model_history.history['val_accuracy'])\n",
    "plt.title('model accuracy')\n",
    "plt.ylabel('accuracy')\n",
    "plt.xlabel('epoch')\n",
    "plt.legend(['train', 'test'], loc='upper left')\n",
    "plt.show()"
   ]
  },
  {
   "cell_type": "code",
   "execution_count": 29,
   "id": "cff57bab",
   "metadata": {},
   "outputs": [
    {
     "data": {
      "image/png": "[encoded data removed]",
      "text/plain": [
       "<Figure size 432x288 with 1 Axes>"
      ]
     },
     "metadata": {
      "needs_background": "light"
     },
     "output_type": "display_data"
    }
   ],
   "source": [
    "# summarize history for loss\n",
    "plt.plot(model_history.history['loss'])\n",
    "plt.plot(model_history.history['val_loss'])\n",
    "plt.title('model loss')\n",
    "plt.ylabel('loss')\n",
    "plt.xlabel('epoch')\n",
    "plt.legend(['train', 'test'], loc='upper left')\n",
    "plt.show()"
   ]
  },
  {
   "cell_type": "code",
   "execution_count": 30,
   "id": "7a4acd54",
   "metadata": {},
   "outputs": [
    {
     "name": "stdout",
     "output_type": "stream",
     "text": [
      "63/63 [==============================] - 2s 9ms/step\n"
     ]
    }
   ],
   "source": [
    "# Part 3 - Making the predictions and evaluating the model\n",
    "\n",
    "# Predicting the Test set results\n",
    "y_pred = classifier.predict(X_test)\n",
    "y_pred = (y_pred > 0.5)"
   ]
  },
  {
   "cell_type": "code",
   "execution_count": 31,
   "id": "2e60a862",
   "metadata": {},
   "outputs": [
    {
     "data": {
      "text/plain": [
       "array([[False],\n",
       "       [False],\n",
       "       [False],\n",
       "       ...,\n",
       "       [False],\n",
       "       [False],\n",
       "       [False]])"
      ]
     },
     "execution_count": 31,
     "metadata": {},
     "output_type": "execute_result"
    }
   ],
   "source": [
    "y_pred"
   ]
  },
  {
   "cell_type": "code",
   "execution_count": 32,
   "id": "e27d2048",
   "metadata": {},
   "outputs": [],
   "source": [
    "# Making the Confusion Matrix\n",
    "from sklearn.metrics import confusion_matrix\n",
    "cm = confusion_matrix(y_test, y_pred)"
   ]
  },
  {
   "cell_type": "code",
   "execution_count": 33,
   "id": "35172317",
   "metadata": {},
   "outputs": [
    {
     "data": {
      "text/plain": [
       "array([[1513,   82],\n",
       "       [ 199,  206]], dtype=int64)"
      ]
     },
     "execution_count": 33,
     "metadata": {},
     "output_type": "execute_result"
    }
   ],
   "source": [
    "cm"
   ]
  },
  {
   "cell_type": "code",
   "execution_count": 34,
   "id": "bab63fe1",
   "metadata": {},
   "outputs": [],
   "source": [
    "# Calculate the Accuracy\n",
    "from sklearn.metrics import accuracy_score\n",
    "score=accuracy_score(y_pred,y_test)"
   ]
  },
  {
   "cell_type": "code",
   "execution_count": 35,
   "id": "3c53a438",
   "metadata": {},
   "outputs": [
    {
     "data": {
      "text/plain": [
       "0.8595"
      ]
     },
     "execution_count": 35,
     "metadata": {},
     "output_type": "execute_result"
    }
   ],
   "source": [
    "score"
   ]
  },
  {
   "cell_type": "code",
   "execution_count": null,
   "id": "d3a6150a",
   "metadata": {},
   "outputs": [],
   "source": []
  }
 ],
 "metadata": {
  "kernelspec": {
   "display_name": "Python 3 (ipykernel)",
   "language": "python",
   "name": "python3"
  },
  "language_info": {
   "codemirror_mode": {
    "name": "ipython",
    "version": 3
   },
   "file_extension": ".py",
   "mimetype": "text/x-python",
   "name": "python",
   "nbconvert_exporter": "python",
   "pygments_lexer": "ipython3",
   "version": "3.9.12"
  }
 },
 "nbformat": 4,
 "nbformat_minor": 5
}
